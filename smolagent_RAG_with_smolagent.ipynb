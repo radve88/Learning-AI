{
  "nbformat": 4,
  "nbformat_minor": 0,
  "metadata": {
    "colab": {
      "provenance": [],
      "authorship_tag": "ABX9TyMWLcPiaopGHBAW4RIqUAjw",
      "include_colab_link": true
    },
    "kernelspec": {
      "name": "python3",
      "display_name": "Python 3"
    },
    "language_info": {
      "name": "python"
    }
  },
  "cells": [
    {
      "cell_type": "markdown",
      "metadata": {
        "id": "view-in-github",
        "colab_type": "text"
      },
      "source": [
        "<a href=\"https://colab.research.google.com/github/radve88/Learning-AI/blob/main/smolagent_RAG_with_smolagent.ipynb\" target=\"_parent\"><img src=\"https://colab.research.google.com/assets/colab-badge.svg\" alt=\"Open In Colab\"/></a>"
      ]
    },
    {
      "cell_type": "markdown",
      "source": [],
      "metadata": {
        "id": "IMBtwRLKQtTF"
      }
    },
    {
      "cell_type": "markdown",
      "source": [
        "Creating a RAG Tool for Guest Stories\n",
        "Alfred, your trusted agent, is preparing for the most extravagant gala of the century. To ensure the event runs smoothly, Alfred needs quick access to up-to-date information about each guest. Let’s help Alfred by creating a custom Retrieval-Augmented Generation (RAG) tool, powered by our custom dataset.\n",
        "\n",
        "Why RAG for a Gala?\n",
        "Imagine Alfred mingling among the guests, needing to recall specific details about each person at a moment’s notice. A traditional LLM might struggle with this task because:\n",
        "\n",
        "The guest list is specific to your event and not in the model’s training data\n",
        "Guest information may change or be updated frequently\n",
        "Alfred needs to retrieve precise details like email addresses\n",
        "This is where Retrieval Augmented Generation (RAG) shines! By combining a retrieval system with an LLM, Alfred can access accurate, up-to-date information about your guests on demand.\n",
        "\n",
        "You can choose any of the frameworks covered in the course for this use case. Select your preferred option from the code tabs.\n",
        "Setting up our application\n",
        "In this unit, we’ll develop our agent within a HF Space, as a structured Python project. This approach helps us maintain clean, modular code by organizing different functionalities into separate files. Also, this makes for a more realistic use case where you would deploy the application for public use.\n",
        "\n",
        "Project Structure\n",
        "tools.py – Provides auxiliary tools for the agent.\n",
        "retriever.py – Implements retrieval functions to support knowledge access.\n",
        "app.py – Integrates all components into a fully functional agent, which we’ll finalize in the last part of this unit.\n",
        "For a hands-on reference, check out this HF Space, where the Agentic RAG developed in this unit is live. Feel free to clone it and experiment!\n",
        "Dataset Overview\n",
        "Our dataset agents-course/unit3-invitees contains the following fields for each guest:\n",
        "\n",
        "Name: Guest’s full name\n",
        "Relation: How the guest is related to the host\n",
        "Description: A brief biography or interesting facts about the guest\n",
        "Email Address: Contact information for sending invitations or follow-ups\n",
        "Below is a preview of the dataset:\n",
        "\n",
        "Step 1: Load and Prepare the Dataset"
      ],
      "metadata": {
        "id": "L48jRHrMQwdS"
      }
    },
    {
      "cell_type": "code",
      "execution_count": null,
      "metadata": {
        "id": "pTqXQffaQenb"
      },
      "outputs": [],
      "source": [
        "import datasets\n",
        "from langchain.docstore.document import Document\n",
        "\n",
        "# Load the dataset\n",
        "guest_dataset = datasets.load_dataset(\"agents-course/unit3-invitees\", split=\"train\")\n",
        "\n",
        "# Convert dataset entries into Document objects\n",
        "docs = [\n",
        "    Document(\n",
        "        page_content=\"\\n\".join([\n",
        "            f\"Name: {guest['name']}\",\n",
        "            f\"Relation: {guest['relation']}\",\n",
        "            f\"Description: {guest['description']}\",\n",
        "            f\"Email: {guest['email']}\"\n",
        "        ]),\n",
        "        metadata={\"name\": guest[\"name\"]}\n",
        "    )\n",
        "    for guest in guest_dataset\n",
        "]\n"
      ]
    },
    {
      "cell_type": "markdown",
      "source": [
        "In the code above, we:\n",
        "\n",
        "Load the dataset\n",
        "Convert each guest entry into a Document object with formatted content\n",
        "Store the Document objects in a list\n",
        "This means we’ve got all of our data nicely available so we can get started with configuring our retrieval.\n",
        "Step 2: Create the Retriever Tool\n",
        "Now, let’s create a custom tool that Alfred can use to search through our guest information.\n",
        "We will use the BM25Retriever from the langchain_community.retrievers module to create a retriever tool."
      ],
      "metadata": {
        "id": "7-_R9uR0Rxdm"
      }
    },
    {
      "cell_type": "code",
      "source": [
        "from smolagents import Tool\n",
        "from langchain_community.retrievers import BM25Retriever\n",
        "\n",
        "class GuestInfoRetrieverTool(Tool):\n",
        "    name = \"guest_info_retriever\"\n",
        "    description = \"Retrieves detailed information about gala guests based on their name or relation.\"\n",
        "    inputs = {\n",
        "        \"query\": {\n",
        "            \"type\": \"string\",\n",
        "            \"description\": \"The name or relation of the guest you want information about.\"\n",
        "        }\n",
        "    }\n",
        "    output_type = \"string\"\n",
        "\n",
        "    def __init__(self, docs):\n",
        "        self.is_initialized = False\n",
        "        self.retriever = BM25Retriever.from_documents(docs)\n",
        "\n",
        "    def forward(self, query: str):\n",
        "        results = self.retriever.get_relevant_documents(query)\n",
        "        if results:\n",
        "            return \"\\n\\n\".join([doc.page_content for doc in results[:3]])\n",
        "        else:\n",
        "            return \"No matching guest information found.\"\n",
        "\n",
        "# Initialize the tool\n",
        "guest_info_tool = GuestInfoRetrieverTool(docs)"
      ],
      "metadata": {
        "id": "noL0aYn7R_fM"
      },
      "execution_count": null,
      "outputs": []
    },
    {
      "cell_type": "markdown",
      "source": [
        "Let’s understand this tool step-by-step:\n",
        "\n",
        "The name and description help the agent understand when and how to use this tool\n",
        "The inputs define what parameters the tool expects (in this case, a search query)\n",
        "We’re using a BM25Retriever, which is a powerful text retrieval algorithm that doesn’t require embeddings\n",
        "The forward method processes the query and returns the most relevant guest information\n",
        "\n",
        "Step 3: Integrate the Tool with Alfred\n",
        "Finally, let’s bring everything together by creating our agent and equipping it with our custom tool:"
      ],
      "metadata": {
        "id": "BUMJv7EVSuB4"
      }
    },
    {
      "cell_type": "code",
      "source": [
        "from smolagents import CodeAgent, InferenceClientModel\n",
        "\n",
        "# Initialize the Hugging Face model\n",
        "model = InferenceClientModel()\n",
        "\n",
        "# Create Alfred, our gala agent, with the guest info tool\n",
        "alfred = CodeAgent(tools=[guest_info_tool], model=model)\n",
        "\n",
        "# Example query Alfred might receive during the gala\n",
        "response = alfred.run(\"Tell me about our guest named 'Lady Ada Lovelace'.\")\n",
        "\n",
        "print(\"🎩 Alfred's Response:\")\n",
        "print(response)"
      ],
      "metadata": {
        "id": "Ypznbd8NS3w5"
      },
      "execution_count": null,
      "outputs": []
    },
    {
      "cell_type": "markdown",
      "source": [
        "What’s happening in this final step:\n",
        "\n",
        "We initialize a Hugging Face model using the InferenceClientModel class\n",
        "We create our agent (Alfred) as a CodeAgent, which can execute Python code to solve problems\n",
        "We ask Alfred to retrieve information about a guest named “Lady Ada Lovelace”"
      ],
      "metadata": {
        "id": "REOk4OJMTE1w"
      }
    }
  ]
}