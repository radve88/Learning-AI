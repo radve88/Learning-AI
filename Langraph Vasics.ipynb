{
  "nbformat": 4,
  "nbformat_minor": 0,
  "metadata": {
    "colab": {
      "provenance": [],
      "authorship_tag": "ABX9TyOaJLanYIsNA8+2X/A6QuEi",
      "include_colab_link": true
    },
    "kernelspec": {
      "name": "python3",
      "display_name": "Python 3"
    },
    "language_info": {
      "name": "python"
    }
  },
  "cells": [
    {
      "cell_type": "markdown",
      "metadata": {
        "id": "view-in-github",
        "colab_type": "text"
      },
      "source": [
        "<a href=\"https://colab.research.google.com/github/radve88/Learning-AI/blob/main/Langraph%20Vasics.ipynb\" target=\"_parent\"><img src=\"https://colab.research.google.com/assets/colab-badge.svg\" alt=\"Open In Colab\"/></a>"
      ]
    },
    {
      "cell_type": "code",
      "execution_count": null,
      "metadata": {
        "id": "k1aggRK87892"
      },
      "outputs": [],
      "source": []
    },
    {
      "cell_type": "markdown",
      "source": [
        "1. State\n",
        "State is the central concept in LangGraph. It represents all the information that flows through your application."
      ],
      "metadata": {
        "id": "4YFNw6_N8Cqu"
      }
    },
    {
      "cell_type": "code",
      "source": [
        "from typing_extensions import TypedDict\n",
        "\n",
        "class State(TypedDict):\n",
        "    graph_state: str"
      ],
      "metadata": {
        "id": "pXjwm7O88D38"
      },
      "execution_count": null,
      "outputs": []
    },
    {
      "cell_type": "markdown",
      "source": [
        "The state is User defined, hence the fields should carefully be crafted to contain all data needed for decision-making process!\n",
        "\n",
        "💡 Tip: Think carefully about what information your application needs to track between steps.\n",
        "\n",
        "2. Nodes\n",
        "\n",
        "Nodes are python functions. Each node:\n",
        "\n",
        "Takes the state as input\n",
        "Performs some operation\n",
        "Returns updates to the state"
      ],
      "metadata": {
        "id": "bsgqXbf_8QDZ"
      }
    },
    {
      "cell_type": "code",
      "source": [
        "def node_1(state):\n",
        "    print(\"---Node 1---\")\n",
        "    return {\"graph_state\": state['graph_state'] +\" I am\"}\n",
        "\n",
        "def node_2(state):\n",
        "    print(\"---Node 2---\")\n",
        "    return {\"graph_state\": state['graph_state'] +\" happy!\"}\n",
        "\n",
        "def node_3(state):\n",
        "    print(\"---Node 3---\")\n",
        "    return {\"graph_state\": state['graph_state'] +\" sad!\"}"
      ],
      "metadata": {
        "id": "hFlPYXDO8R18"
      },
      "execution_count": null,
      "outputs": []
    },
    {
      "cell_type": "markdown",
      "source": [
        "or example, Nodes can contain:\n",
        "\n",
        "LLM calls: Generate text or make decisions\n",
        "Tool calls: Interact with external systems\n",
        "Conditional logic: Determine next steps\n",
        "Human intervention: Get input from users\n",
        "💡 Info: Some nodes necessary for the whole workflow like START and END exist from langGraph directly.\n",
        "\n",
        "3. Edges\n",
        "\n",
        "Edges connect nodes and define the possible paths through your graph:"
      ],
      "metadata": {
        "id": "63WhFsgX8o3n"
      }
    },
    {
      "cell_type": "code",
      "source": [
        "import random\n",
        "from typing import Literal\n",
        "\n",
        "def decide_mood(state) -> Literal[\"node_2\", \"node_3\"]:\n",
        "\n",
        "    # Often, we will use state to decide on the next node to visit\n",
        "    user_input = state['graph_state']\n",
        "\n",
        "    # Here, let's just do a 50 / 50 split between nodes 2, 3\n",
        "    if random.random() < 0.5:\n",
        "\n",
        "        # 50% of the time, we return Node 2\n",
        "        return \"node_2\"\n",
        "\n",
        "    # 50% of the time, we return Node 3\n",
        "    return \"node_3\""
      ],
      "metadata": {
        "id": "tLYhOy2_8r8_"
      },
      "execution_count": null,
      "outputs": []
    },
    {
      "cell_type": "markdown",
      "source": [
        "Edges can be:\n",
        "\n",
        "Direct: Always go from node A to node B\n",
        "Conditional: Choose the next node based on the current state\n",
        "4. StateGraph\n",
        "The StateGraph is the container that holds your entire agent workflow:"
      ],
      "metadata": {
        "id": "1xVGAIGA9Eq5"
      }
    },
    {
      "cell_type": "code",
      "source": [
        "from IPython.display import Image, display\n",
        "from langgraph.graph import StateGraph, START, END\n",
        "\n",
        "# Build graph\n",
        "builder = StateGraph(State)\n",
        "builder.add_node(\"node_1\", node_1)\n",
        "builder.add_node(\"node_2\", node_2)\n",
        "builder.add_node(\"node_3\", node_3)\n",
        "\n",
        "# Logic\n",
        "builder.add_edge(START, \"node_1\")\n",
        "builder.add_conditional_edges(\"node_1\", decide_mood)\n",
        "builder.add_edge(\"node_2\", END)\n",
        "builder.add_edge(\"node_3\", END)\n",
        "\n",
        "# Add\n",
        "graph = builder.compile()"
      ],
      "metadata": {
        "id": "xk6O115N9Gaw"
      },
      "execution_count": null,
      "outputs": []
    },
    {
      "cell_type": "markdown",
      "source": [
        "Which can then be visualized!"
      ],
      "metadata": {
        "id": "eHJ-O0E69Spb"
      }
    },
    {
      "cell_type": "code",
      "source": [
        "# View\n",
        "display(Image(graph.get_graph().draw_mermaid_png()))"
      ],
      "metadata": {
        "id": "5SrwCq039YMJ"
      },
      "execution_count": null,
      "outputs": []
    }
  ]
}