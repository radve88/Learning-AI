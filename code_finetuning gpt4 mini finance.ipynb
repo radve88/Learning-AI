{
  "nbformat": 4,
  "nbformat_minor": 0,
  "metadata": {
    "colab": {
      "provenance": [],
      "authorship_tag": "ABX9TyPd3PTE7mY+r6twS0LGHP7N",
      "include_colab_link": true
    },
    "kernelspec": {
      "name": "python3",
      "display_name": "Python 3"
    },
    "language_info": {
      "name": "python"
    }
  },
  "cells": [
    {
      "cell_type": "markdown",
      "metadata": {
        "id": "view-in-github",
        "colab_type": "text"
      },
      "source": [
        "<a href=\"https://colab.research.google.com/github/radve88/Learning-AI/blob/main/code_finetuning%20gpt4%20mini%20finance.ipynb\" target=\"_parent\"><img src=\"https://colab.research.google.com/assets/colab-badge.svg\" alt=\"Open In Colab\"/></a>"
      ]
    },
    {
      "cell_type": "code",
      "execution_count": null,
      "metadata": {
        "id": "bDYZDedA4y_6"
      },
      "outputs": [],
      "source": [
        "from transformers import AutoTokenizer, AutoModelForSequenceClassification\n",
        "import torch\n",
        "import pandas as pd\n",
        "from tqdm import tqdm\n",
        "\n",
        "tokenizer = AutoTokenizer.from_pretrained(\"ProsusAI/finbert\")\n",
        "model = AutoModelForSequenceClassification.from_pretrained(\"ProsusAI/finbert\")\n",
        "\n",
        "device = torch.device('cuda' if torch.cuda.is_available() else 'cpu')\n",
        "model.to(device)"
      ]
    },
    {
      "cell_type": "code",
      "source": [
        "def get_sentiment(text):\n",
        "    inputs = tokenizer(text, return_tensors=\"pt\", truncation=True, max_length=512).to(device)\n",
        "    with torch.no_grad():\n",
        "        outputs = model(**inputs)\n",
        "    logits = outputs.logits\n",
        "    sentiment = torch.argmax(logits, dim=1).item()\n",
        "    sentiment_label = [\"Positive\", \"Negative\", \"Neutral\"][sentiment]\n",
        "    return sentiment_label"
      ],
      "metadata": {
        "id": "gpT1Anq140Pv"
      },
      "execution_count": null,
      "outputs": []
    },
    {
      "cell_type": "code",
      "source": [
        "# Load the compressed dataset from file\n",
        "open compressed_file as file:\n",
        "    # Read the contents of the file into memory\n",
        "    data = read_file(file)\n",
        "\n",
        "# Extract relevant sections of each document\n",
        "for each document in data:\n",
        "    extract document_id\n",
        "    extract date\n",
        "    extract main_text_content\n",
        "\n",
        "# Define a function to clean and segment text content\n",
        "function clean_and_segment_text(text):\n",
        "    # Remove unwanted characters and whitespace\n",
        "    cleaned_text = remove_special_characters(text)\n",
        "    cleaned_text = standardize_whitespace(cleaned_text)\n",
        "\n",
        "    # Split the cleaned text into sentences or text segments\n",
        "    sentences = split_into_sentences(cleaned_text)\n",
        "\n",
        "    return sentences\n",
        "\n",
        "# Apply the cleaning and segmentation function to each document’s content\n",
        "for each document in data:\n",
        "    sentences = clean_and_segment_text(document['main_text_content'])\n",
        "    save sentences to structured format\n",
        "\n",
        "# Create a structured data storage for individual sentences\n",
        "initialize empty list of structured_data\n",
        "\n",
        "for each sentence in sentences:\n",
        "    # Append sentence to structured data\n",
        "    structured_data.append(sentence)\n",
        "\n",
        "# Define a function to filter out unwanted sentences based on specific criteria\n",
        "function filter_sentences(sentence):\n",
        "    if sentence is too short:\n",
        "        return False\n",
        "    if sentence contains specific patterns (e.g., dates or excessive symbols):\n",
        "        return False\n",
        "    if sentence matches unwanted formatting characteristics:\n",
        "        return False\n",
        "\n",
        "    return True\n",
        "\n",
        "# Apply the filter to structured data\n",
        "filtered_data = [sentence for sentence in structured_data if filter_sentences(sentence)]\n",
        "\n",
        "# Further filter the sentences based on minimum length or other criteria\n",
        "final_data = [sentence for sentence in filtered_data if meets_minimum_length(sentence)]\n",
        "\n",
        "# Save the final data structure for model training\n",
        "save final_data as structured_file"
      ],
      "metadata": {
        "id": "hpL2rFxR5N6m"
      },
      "execution_count": null,
      "outputs": []
    },
    {
      "cell_type": "code",
      "source": [
        "df_sampled = df.sample(n=1000000, random_state=42).reset_index(drop=True)"
      ],
      "metadata": {
        "id": "5Mp08D5b5lAd"
      },
      "execution_count": null,
      "outputs": []
    },
    {
      "cell_type": "code",
      "source": [
        "import json\n",
        "\n",
        "jsonl_data = []\n",
        "for _, row in tqdm(df_sampled.iterrows(), total=df_sampled.shape[0]):\n",
        "    content = row['sentence']\n",
        "    sentiment = get_sentiment(content)\n",
        "\n",
        "    jsonl_entry = {\n",
        "        \"messages\": [\n",
        "            {\"role\": \"system\", \"content\": \"The assistant is a financial expert.\"},\n",
        "            {\"role\": \"user\", \"content\": content},\n",
        "            {\"role\": \"assistant\", \"content\": sentiment}\n",
        "        ]\n",
        "    }\n",
        "    jsonl_data.append(jsonl_entry)\n",
        "\n",
        "with open('finetuning_data.jsonl', 'w') as jsonl_file:\n",
        "    for entry in jsonl_data:\n",
        "        jsonl_file.write(json.dumps(entry) + '\\n')"
      ],
      "metadata": {
        "id": "c-WBiGrh5tn1"
      },
      "execution_count": null,
      "outputs": []
    },
    {
      "cell_type": "code",
      "source": [
        "with open('finetuning_data.jsonl', 'r') as jsonl_file:\n",
        "    data = [json.loads(line) for line in jsonl_file]\n",
        "\n",
        "for entry in data:\n",
        "    entry[\"messages\"][2][\"content\"] = entry[\"messages\"][2][\"content\"].lower()\n",
        "\n",
        "with open('finetuning_data_lowercase.jsonl', 'w') as new_jsonl_file:\n",
        "    for entry in data:\n",
        "        new_jsonl_file.write(json.dumps(entry) + '\\n')"
      ],
      "metadata": {
        "id": "qpn3a-tp59y0"
      },
      "execution_count": null,
      "outputs": []
    },
    {
      "cell_type": "code",
      "source": [
        "import random\n",
        "random.seed(42)\n",
        "\n",
        "random.shuffle(data)\n",
        "\n",
        "split_ratio = 0.8\n",
        "split_index = int(len(data) * split_ratio)\n",
        "\n",
        "training_data = data[:split_index]\n",
        "validation_data = data[split_index:]\n",
        "\n",
        "with open('training_data.jsonl', 'w') as train_file:\n",
        "    for entry in training_data:\n",
        "        train_file.write(json.dumps(entry) + '\\n')\n",
        "\n",
        "with open('validation_data.jsonl', 'w') as val_file:\n",
        "    for entry in validation_data:\n",
        "        val_file.write(json.dumps(entry) + '\\n')\n"
      ],
      "metadata": {
        "id": "yalgZsKc6GwR"
      },
      "execution_count": null,
      "outputs": []
    },
    {
      "cell_type": "code",
      "source": [
        "from sklearn.model_selection import train_test_split\n",
        "\n",
        "data_df = pd.DataFrame({\n",
        "    'content': [entry[\"messages\"][1][\"content\"] for entry in data],\n",
        "    'label': [entry[\"messages\"][2][\"content\"] for entry in data]\n",
        "})\n",
        "\n",
        "df_sampled, _ = train_test_split(data_df, stratify=data_df['label'], test_size=0.9, random_state=42)\n",
        "train_df, val_df = train_test_split(df_sampled, stratify=df_sampled['label'], test_size=0.2, random_state=42)\n",
        "\n",
        "def df_to_jsonl(df, filename):\n",
        "    jsonl_data = []\n",
        "    for _, row in df.iterrows():\n",
        "        jsonl_entry = {\n",
        "            \"messages\": [\n",
        "                {\"role\": \"system\", \"content\": \"The assistant is a financial expert.\"},\n",
        "                {\"role\": \"user\", \"content\": row['content']},\n",
        "                {\"role\": \"assistant\", \"content\": row['label']}\n",
        "            ]\n",
        "        }\n",
        "        jsonl_data.append(jsonl_entry)\n",
        "\n",
        "    with open(filename, 'w') as jsonl_file:\n",
        "        for entry in jsonl_data:\n",
        "            jsonl_file.write(json.dumps(entry) + '\\n')\n",
        "\n",
        "df_to_jsonl(train_df, 'reduced_training_data.jsonl')\n",
        "df_to_jsonl(val_df, 'reduced_validation_data.jsonl')"
      ],
      "metadata": {
        "id": "MEPFD_eS6Oow"
      },
      "execution_count": null,
      "outputs": []
    },
    {
      "cell_type": "markdown",
      "source": [
        "Step8: Fine-Tune GPT-4o Mini Using OpenAI’s Fine-Tuning API\n",
        "With your prepared JSONL files, follow OpenAI’s documentation to fine-tune GPT-4o mini on the prepared training and validation datasets.\n",
        "Upload Data and Start Fine-Tuning: Upload the JSONL files to OpenAI’s platform and follow their API instructions to initiate the fine-tuning process.\n",
        "OpenAI Finetuning Dashboard: Financial Sentiment Analysis"
      ],
      "metadata": {
        "id": "jK4sB0Jl6dc0"
      }
    }
  ]
}